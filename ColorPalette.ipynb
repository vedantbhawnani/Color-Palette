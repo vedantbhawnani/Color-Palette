{
  "cells": [
    {
      "cell_type": "code",
      "execution_count": 100,
      "metadata": {
        "id": "OWKBQS6z0XjI"
      },
      "outputs": [],
      "source": [
        "import matplotlib.image as img\n",
        "import matplotlib.pyplot as plt\n",
        "%matplotlib inline\n",
        "\n",
        "import pandas as pd\n",
        "# To add a mask\n",
        "from scipy.cluster.vq import whiten\n",
        "\n",
        "from sklearn.cluster import KMeans\n",
        "import seaborn as sns"
      ]
    },
    {
      "cell_type": "code",
      "execution_count": 101,
      "metadata": {
        "id": "7g0EY__szYif"
      },
      "outputs": [],
      "source": [
        "num_dominant_colors = 10"
      ]
    },
    {
      "cell_type": "code",
      "execution_count": 102,
      "metadata": {
        "id": "HHz9BKvJ0lse"
      },
      "outputs": [],
      "source": [
        "im = img.imread('spongebob.jpg')"
      ]
    },
    {
      "cell_type": "code",
      "execution_count": 103,
      "metadata": {
        "id": "nB4KuPYe1nty"
      },
      "outputs": [],
      "source": [
        "# im"
      ]
    },
    {
      "cell_type": "code",
      "execution_count": 104,
      "metadata": {
        "id": "jv4gK9Kb1qM3"
      },
      "outputs": [],
      "source": [
        "r = []\n",
        "g = []\n",
        "b = []\n",
        "\n",
        "for row in im:\n",
        "  for temp_r, temp_g, temp_b in row:\n",
        "    r.append(temp_r)\n",
        "    g.append(temp_g)\n",
        "    b.append(temp_b)"
      ]
    },
    {
      "cell_type": "code",
      "execution_count": 105,
      "metadata": {
        "id": "Zt7JHy7DfoOX"
      },
      "outputs": [],
      "source": [
        "image_df = pd.DataFrame({'red' : r, 'green' : g, 'blue' : b})"
      ]
    },
    {
      "cell_type": "code",
      "execution_count": 106,
      "metadata": {
        "id": "ApVyTqQNfzoK"
      },
      "outputs": [],
      "source": [
        "image_df['scaled_red'] = whiten(image_df['red'])\n",
        "image_df['scaled_green'] = whiten(image_df['green'])\n",
        "image_df['scaled_blue'] = whiten(image_df['blue'])"
      ]
    },
    {
      "cell_type": "code",
      "execution_count": 107,
      "metadata": {
        "id": "hklfJ-shgLYK"
      },
      "outputs": [],
      "source": [
        "# distortions = []\n",
        "# clusters = range(1,7)\n",
        "\n",
        "# for i in clusters:\n",
        "#   kmeans = KMeans(i)\n",
        "#   kmeans.fit(image_df[['scaled_red','scaled_green','scaled_blue']])\n",
        "#   distortions.append(kmeans.inertia_)\n",
        "\n",
        "# sns.lineplot(x = clusters, y = distortions)"
      ]
    },
    {
      "cell_type": "code",
      "execution_count": 108,
      "metadata": {
        "colab": {
          "base_uri": "https://localhost:8080/"
        },
        "id": "6T0SriKvpUX-",
        "outputId": "12f07ed5-356b-4337-f589-d94fbb433f37"
      },
      "outputs": [
        {
          "output_type": "stream",
          "name": "stderr",
          "text": [
            "/usr/local/lib/python3.10/dist-packages/sklearn/cluster/_kmeans.py:870: FutureWarning: The default value of `n_init` will change from 10 to 'auto' in 1.4. Set the value of `n_init` explicitly to suppress the warning\n",
            "  warnings.warn(\n"
          ]
        }
      ],
      "source": [
        "kmeans = KMeans(num_dominant_colors)\n",
        "kmeans.fit(image_df[['scaled_red','scaled_green','scaled_blue']])\n",
        "cluster_centers = kmeans.cluster_centers_"
      ]
    },
    {
      "cell_type": "code",
      "execution_count": 109,
      "metadata": {
        "id": "HMq0xRgEtHQ_"
      },
      "outputs": [],
      "source": [
        "red_std, green_std, blue_std = image_df[['red','green','blue']].std()\n",
        "dominant_colors = []\n",
        "\n",
        "for cluster_center in cluster_centers:\n",
        "  red_scaled, green_scaled, blue_scaled = cluster_center\n",
        "  dominant_colors.append((\n",
        "      red_scaled*red_std / 255,\n",
        "      green_scaled*green_std / 255,\n",
        "      blue_scaled*blue_std / 255))"
      ]
    },
    {
      "cell_type": "code",
      "execution_count": 110,
      "metadata": {
        "colab": {
          "base_uri": "https://localhost:8080/",
          "height": 132
        },
        "id": "mNp69qQ6t0Sc",
        "outputId": "52ab995a-f20d-42cf-f887-8f6bc9220475"
      },
      "outputs": [
        {
          "output_type": "execute_result",
          "data": {
            "text/plain": [
              "<matplotlib.image.AxesImage at 0x7edac6cf9ea0>"
            ]
          },
          "metadata": {},
          "execution_count": 110
        },
        {
          "output_type": "display_data",
          "data": {
            "text/plain": [
              "<Figure size 640x480 with 1 Axes>"
            ],
            "image/png": "[encoded data removed]"
          },
          "metadata": {}
        }
      ],
      "source": [
        "plt.imshow([dominant_colors])"
      ]
    },
    {
      "cell_type": "code",
      "execution_count": 110,
      "metadata": {
        "id": "tIfXUTl1yuRj"
      },
      "outputs": [],
      "source": []
    }
  ],
  "metadata": {
    "colab": {
      "provenance": []
    },
    "kernelspec": {
      "display_name": "Python 3",
      "name": "python3"
    },
    "language_info": {
      "name": "python"
    }
  },
  "nbformat": 4,
  "nbformat_minor": 0
}